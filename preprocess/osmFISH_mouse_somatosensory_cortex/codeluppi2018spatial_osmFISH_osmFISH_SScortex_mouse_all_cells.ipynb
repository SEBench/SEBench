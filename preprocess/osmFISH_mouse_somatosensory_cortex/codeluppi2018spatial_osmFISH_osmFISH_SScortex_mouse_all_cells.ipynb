{
 "cells": [
  {
   "cell_type": "code",
   "execution_count": 3,
   "id": "0b0b141e",
   "metadata": {},
   "outputs": [],
   "source": [
    "import scanpy as sc\n",
    "import pandas as pd\n",
    "import anndata as ad"
   ]
  },
  {
   "cell_type": "code",
   "execution_count": 4,
   "id": "b5825d39",
   "metadata": {},
   "outputs": [],
   "source": [
    "data_path = 'C:/Users/Administrator/Desktop/code/'"
   ]
  },
  {
   "cell_type": "code",
   "execution_count": 5,
   "id": "725e464f",
   "metadata": {},
   "outputs": [],
   "source": [
    "data_file = 'osmFISH_SScortex_mouse_all_cells.loom'"
   ]
  },
  {
   "cell_type": "code",
   "execution_count": 6,
   "id": "de9909b5",
   "metadata": {},
   "outputs": [],
   "source": [
    "adata = sc.read_loom(f'{data_path}/{data_file}')"
   ]
  },
  {
   "cell_type": "code",
   "execution_count": 7,
   "id": "2bb3e441",
   "metadata": {},
   "outputs": [
    {
     "data": {
      "text/plain": [
       "AnnData object with n_obs × n_vars = 6471 × 33\n",
       "    obs: 'ClusterID', 'ClusterName', 'Region', 'Total_molecules', 'Valid', 'X', 'Y', '_tSNE_1', '_tSNE_2', 'size_pix', 'size_um2'\n",
       "    var: 'Fluorophore', 'Hybridization'"
      ]
     },
     "execution_count": 7,
     "metadata": {},
     "output_type": "execute_result"
    }
   ],
   "source": [
    "adata"
   ]
  },
  {
   "cell_type": "code",
   "execution_count": 8,
   "id": "5c164c14",
   "metadata": {},
   "outputs": [],
   "source": [
    "adata.obsm['spatial'] = adata.obs[['X','Y']]"
   ]
  },
  {
   "cell_type": "code",
   "execution_count": 9,
   "id": "8882a1f4",
   "metadata": {},
   "outputs": [
    {
     "data": {
      "text/plain": [
       "AnnData object with n_obs × n_vars = 6471 × 33\n",
       "    obs: 'ClusterID', 'ClusterName', 'Region', 'Total_molecules', 'Valid', 'X', 'Y', '_tSNE_1', '_tSNE_2', 'size_pix', 'size_um2'\n",
       "    var: 'Fluorophore', 'Hybridization'\n",
       "    obsm: 'spatial'"
      ]
     },
     "execution_count": 9,
     "metadata": {},
     "output_type": "execute_result"
    }
   ],
   "source": [
    "adata"
   ]
  },
  {
   "cell_type": "code",
   "execution_count": null,
   "id": "554af351",
   "metadata": {},
   "outputs": [],
   "source": [
    "save_path = 'C:/Users/Administrator/Desktop/code/osmFISH_TEST/mouse somatosensory cortex(osmFISH).h5ad'"
   ]
  },
  {
   "cell_type": "code",
   "execution_count": null,
   "id": "f28fb59b",
   "metadata": {},
   "outputs": [],
   "source": [
    "adata.write_h5ad(save_path)"
   ]
  },
  {
   "cell_type": "code",
   "execution_count": null,
   "id": "83bee010",
   "metadata": {},
   "outputs": [],
   "source": []
  }
 ],
 "metadata": {
  "kernelspec": {
   "display_name": "Python 3 (ipykernel)",
   "language": "python",
   "name": "python3"
  },
  "language_info": {
   "codemirror_mode": {
    "name": "ipython",
    "version": 3
   },
   "file_extension": ".py",
   "mimetype": "text/x-python",
   "name": "python",
   "nbconvert_exporter": "python",
   "pygments_lexer": "ipython3",
   "version": "3.9.7"
  }
 },
 "nbformat": 4,
 "nbformat_minor": 5
}
