{
 "cells": [
  {
   "cell_type": "code",
   "execution_count": 114,
   "id": "d9aa68ec-84c3-443a-8bc2-1c8a33a55989",
   "metadata": {},
   "outputs": [],
   "source": [
    "import scanpy as sc\n",
    "import pandas as pd\n",
    "import anndata as ad"
   ]
  },
  {
   "cell_type": "code",
   "execution_count": 115,
   "id": "41529ee3-8fa2-4956-9a7c-88e367e693d0",
   "metadata": {
    "scrolled": true
   },
   "outputs": [],
   "source": [
    "data_path = 'C:/Users/Administrator/Desktop/code/doi_10.5061_dryad.8t8s248__v1/'"
   ]
  },
  {
   "cell_type": "code",
   "execution_count": 116,
   "id": "bffb0ba6-7565-48af-b85a-7c6dcf5f72d2",
   "metadata": {},
   "outputs": [],
   "source": [
    "target = 'Moffitt_and_Bambah-Mukku_et_al_merfish_all_cells.csv'"
   ]
  },
  {
   "cell_type": "code",
   "execution_count": 117,
   "id": "61473d95-f91f-4400-9123-639e69f63ac5",
   "metadata": {},
   "outputs": [],
   "source": [
    "# 用pandas读取csv\n",
    "count = pd.read_csv(f'{data_path}/{target}')"
   ]
  },
  {
   "cell_type": "code",
   "execution_count": 118,
   "id": "add03619-6ce6-4898-b85d-ef6357a92487",
   "metadata": {
    "tags": []
   },
   "outputs": [
    {
     "data": {
      "text/html": [
       "<div>\n",
       "<style scoped>\n",
       "    .dataframe tbody tr th:only-of-type {\n",
       "        vertical-align: middle;\n",
       "    }\n",
       "\n",
       "    .dataframe tbody tr th {\n",
       "        vertical-align: top;\n",
       "    }\n",
       "\n",
       "    .dataframe thead th {\n",
       "        text-align: right;\n",
       "    }\n",
       "</style>\n",
       "<table border=\"1\" class=\"dataframe\">\n",
       "  <thead>\n",
       "    <tr style=\"text-align: right;\">\n",
       "      <th></th>\n",
       "      <th>Cell_ID</th>\n",
       "      <th>Animal_ID</th>\n",
       "      <th>Animal_sex</th>\n",
       "      <th>Behavior</th>\n",
       "      <th>Bregma</th>\n",
       "      <th>Centroid_X</th>\n",
       "      <th>Centroid_Y</th>\n",
       "      <th>Cell_class</th>\n",
       "      <th>Neuron_cluster_ID</th>\n",
       "      <th>Ace2</th>\n",
       "      <th>...</th>\n",
       "      <th>Penk</th>\n",
       "      <th>Scg2</th>\n",
       "      <th>Sln</th>\n",
       "      <th>Sst</th>\n",
       "      <th>Tac1</th>\n",
       "      <th>Tac2</th>\n",
       "      <th>Th</th>\n",
       "      <th>Trh</th>\n",
       "      <th>Ucn3</th>\n",
       "      <th>Vgf</th>\n",
       "    </tr>\n",
       "  </thead>\n",
       "  <tbody>\n",
       "    <tr>\n",
       "      <th>0</th>\n",
       "      <td>6749ccb4-2ed1-4029-968f-820a287f43c8</td>\n",
       "      <td>1</td>\n",
       "      <td>Female</td>\n",
       "      <td>Naive</td>\n",
       "      <td>0.26</td>\n",
       "      <td>-3211.562145</td>\n",
       "      <td>2608.541476</td>\n",
       "      <td>Astrocyte</td>\n",
       "      <td>NaN</td>\n",
       "      <td>0.0</td>\n",
       "      <td>...</td>\n",
       "      <td>0.133016</td>\n",
       "      <td>0.000000</td>\n",
       "      <td>0.865263</td>\n",
       "      <td>0.002977</td>\n",
       "      <td>0.054826</td>\n",
       "      <td>0.008934</td>\n",
       "      <td>0.000000</td>\n",
       "      <td>0.000000</td>\n",
       "      <td>0.000000</td>\n",
       "      <td>0.000000</td>\n",
       "    </tr>\n",
       "    <tr>\n",
       "      <th>1</th>\n",
       "      <td>6cac74bd-4ea7-4701-8701-42563cc65eb8</td>\n",
       "      <td>1</td>\n",
       "      <td>Female</td>\n",
       "      <td>Naive</td>\n",
       "      <td>0.26</td>\n",
       "      <td>-3207.923151</td>\n",
       "      <td>2621.795437</td>\n",
       "      <td>Inhibitory</td>\n",
       "      <td>I-5</td>\n",
       "      <td>0.0</td>\n",
       "      <td>...</td>\n",
       "      <td>0.000000</td>\n",
       "      <td>0.000000</td>\n",
       "      <td>0.277939</td>\n",
       "      <td>0.868702</td>\n",
       "      <td>0.580957</td>\n",
       "      <td>0.010079</td>\n",
       "      <td>0.000000</td>\n",
       "      <td>0.000000</td>\n",
       "      <td>0.000000</td>\n",
       "      <td>0.000000</td>\n",
       "    </tr>\n",
       "    <tr>\n",
       "      <th>2</th>\n",
       "      <td>9f29bd57-16a5-4b26-b9f5-37598809da9e</td>\n",
       "      <td>1</td>\n",
       "      <td>Female</td>\n",
       "      <td>Naive</td>\n",
       "      <td>0.26</td>\n",
       "      <td>-3209.578004</td>\n",
       "      <td>2633.153494</td>\n",
       "      <td>Inhibitory</td>\n",
       "      <td>I-6</td>\n",
       "      <td>0.0</td>\n",
       "      <td>...</td>\n",
       "      <td>0.213939</td>\n",
       "      <td>0.000000</td>\n",
       "      <td>0.377907</td>\n",
       "      <td>0.049332</td>\n",
       "      <td>0.084898</td>\n",
       "      <td>0.008951</td>\n",
       "      <td>0.000000</td>\n",
       "      <td>0.000000</td>\n",
       "      <td>0.000000</td>\n",
       "      <td>0.000000</td>\n",
       "    </tr>\n",
       "    <tr>\n",
       "      <th>3</th>\n",
       "      <td>d7eb4e0b-276e-47e3-a55c-0b033180a2fe</td>\n",
       "      <td>1</td>\n",
       "      <td>Female</td>\n",
       "      <td>Naive</td>\n",
       "      <td>0.26</td>\n",
       "      <td>-3203.853515</td>\n",
       "      <td>2756.045983</td>\n",
       "      <td>Inhibitory</td>\n",
       "      <td>I-5</td>\n",
       "      <td>0.0</td>\n",
       "      <td>...</td>\n",
       "      <td>0.050882</td>\n",
       "      <td>0.089038</td>\n",
       "      <td>0.000000</td>\n",
       "      <td>0.000000</td>\n",
       "      <td>0.001530</td>\n",
       "      <td>0.031364</td>\n",
       "      <td>0.000000</td>\n",
       "      <td>0.000000</td>\n",
       "      <td>0.000000</td>\n",
       "      <td>0.001138</td>\n",
       "    </tr>\n",
       "    <tr>\n",
       "      <th>4</th>\n",
       "      <td>54434f3a-eba9-4aec-af35-c9d317ffa1d5</td>\n",
       "      <td>1</td>\n",
       "      <td>Female</td>\n",
       "      <td>Naive</td>\n",
       "      <td>0.26</td>\n",
       "      <td>-3202.682705</td>\n",
       "      <td>2608.803635</td>\n",
       "      <td>Inhibitory</td>\n",
       "      <td>I-9</td>\n",
       "      <td>0.0</td>\n",
       "      <td>...</td>\n",
       "      <td>1.250661</td>\n",
       "      <td>0.159618</td>\n",
       "      <td>0.211159</td>\n",
       "      <td>0.000000</td>\n",
       "      <td>0.087730</td>\n",
       "      <td>0.000000</td>\n",
       "      <td>0.000000</td>\n",
       "      <td>0.000000</td>\n",
       "      <td>0.000000</td>\n",
       "      <td>0.029419</td>\n",
       "    </tr>\n",
       "    <tr>\n",
       "      <th>...</th>\n",
       "      <td>...</td>\n",
       "      <td>...</td>\n",
       "      <td>...</td>\n",
       "      <td>...</td>\n",
       "      <td>...</td>\n",
       "      <td>...</td>\n",
       "      <td>...</td>\n",
       "      <td>...</td>\n",
       "      <td>...</td>\n",
       "      <td>...</td>\n",
       "      <td>...</td>\n",
       "      <td>...</td>\n",
       "      <td>...</td>\n",
       "      <td>...</td>\n",
       "      <td>...</td>\n",
       "      <td>...</td>\n",
       "      <td>...</td>\n",
       "      <td>...</td>\n",
       "      <td>...</td>\n",
       "      <td>...</td>\n",
       "      <td>...</td>\n",
       "    </tr>\n",
       "    <tr>\n",
       "      <th>1027843</th>\n",
       "      <td>eaaf93ba-75b1-40cd-af08-a4d803511354</td>\n",
       "      <td>30</td>\n",
       "      <td>Male</td>\n",
       "      <td>Mating</td>\n",
       "      <td>0.11</td>\n",
       "      <td>2732.438894</td>\n",
       "      <td>-2322.578167</td>\n",
       "      <td>Ambiguous</td>\n",
       "      <td>NaN</td>\n",
       "      <td>0.0</td>\n",
       "      <td>...</td>\n",
       "      <td>0.000000</td>\n",
       "      <td>0.000000</td>\n",
       "      <td>0.000000</td>\n",
       "      <td>0.000000</td>\n",
       "      <td>0.000000</td>\n",
       "      <td>0.040998</td>\n",
       "      <td>0.000000</td>\n",
       "      <td>0.000000</td>\n",
       "      <td>0.024618</td>\n",
       "      <td>0.000000</td>\n",
       "    </tr>\n",
       "    <tr>\n",
       "      <th>1027844</th>\n",
       "      <td>bb9caf59-d960-452e-a9fd-9238ce5e44ca</td>\n",
       "      <td>30</td>\n",
       "      <td>Male</td>\n",
       "      <td>Mating</td>\n",
       "      <td>0.11</td>\n",
       "      <td>2732.665807</td>\n",
       "      <td>-2120.226450</td>\n",
       "      <td>Ambiguous</td>\n",
       "      <td>NaN</td>\n",
       "      <td>0.0</td>\n",
       "      <td>...</td>\n",
       "      <td>0.000000</td>\n",
       "      <td>0.852081</td>\n",
       "      <td>0.000000</td>\n",
       "      <td>0.695548</td>\n",
       "      <td>0.000000</td>\n",
       "      <td>0.024392</td>\n",
       "      <td>0.475944</td>\n",
       "      <td>0.000000</td>\n",
       "      <td>0.000000</td>\n",
       "      <td>0.000000</td>\n",
       "    </tr>\n",
       "    <tr>\n",
       "      <th>1027845</th>\n",
       "      <td>2f45d61d-3a80-470b-8cb8-251a2c8d2e59</td>\n",
       "      <td>30</td>\n",
       "      <td>Male</td>\n",
       "      <td>Mating</td>\n",
       "      <td>0.11</td>\n",
       "      <td>2826.247461</td>\n",
       "      <td>-2308.947366</td>\n",
       "      <td>Ambiguous</td>\n",
       "      <td>NaN</td>\n",
       "      <td>0.0</td>\n",
       "      <td>...</td>\n",
       "      <td>0.058011</td>\n",
       "      <td>0.000000</td>\n",
       "      <td>0.000000</td>\n",
       "      <td>0.000000</td>\n",
       "      <td>0.000000</td>\n",
       "      <td>0.061898</td>\n",
       "      <td>0.000000</td>\n",
       "      <td>0.000000</td>\n",
       "      <td>0.000000</td>\n",
       "      <td>0.000000</td>\n",
       "    </tr>\n",
       "    <tr>\n",
       "      <th>1027846</th>\n",
       "      <td>180ae0ff-9817-48b9-8d34-b374bda6e316</td>\n",
       "      <td>30</td>\n",
       "      <td>Male</td>\n",
       "      <td>Mating</td>\n",
       "      <td>0.11</td>\n",
       "      <td>2900.963778</td>\n",
       "      <td>-2174.600160</td>\n",
       "      <td>Inhibitory</td>\n",
       "      <td>I-2</td>\n",
       "      <td>0.0</td>\n",
       "      <td>...</td>\n",
       "      <td>0.000000</td>\n",
       "      <td>0.326172</td>\n",
       "      <td>0.000000</td>\n",
       "      <td>0.000000</td>\n",
       "      <td>0.000000</td>\n",
       "      <td>0.063518</td>\n",
       "      <td>0.000000</td>\n",
       "      <td>0.000000</td>\n",
       "      <td>0.000000</td>\n",
       "      <td>0.000000</td>\n",
       "    </tr>\n",
       "    <tr>\n",
       "      <th>1027847</th>\n",
       "      <td>83463d3a-29c5-40c3-b762-ffc3b7a11ad3</td>\n",
       "      <td>30</td>\n",
       "      <td>Male</td>\n",
       "      <td>Mating</td>\n",
       "      <td>0.11</td>\n",
       "      <td>2817.020857</td>\n",
       "      <td>-1716.243777</td>\n",
       "      <td>Ambiguous</td>\n",
       "      <td>NaN</td>\n",
       "      <td>0.0</td>\n",
       "      <td>...</td>\n",
       "      <td>0.000000</td>\n",
       "      <td>0.000000</td>\n",
       "      <td>0.000000</td>\n",
       "      <td>0.026406</td>\n",
       "      <td>0.007543</td>\n",
       "      <td>0.069503</td>\n",
       "      <td>0.000000</td>\n",
       "      <td>0.026432</td>\n",
       "      <td>0.000000</td>\n",
       "      <td>0.000000</td>\n",
       "    </tr>\n",
       "  </tbody>\n",
       "</table>\n",
       "<p>1027848 rows × 170 columns</p>\n",
       "</div>"
      ],
      "text/plain": [
       "                                      Cell_ID  Animal_ID Animal_sex Behavior  \\\n",
       "0        6749ccb4-2ed1-4029-968f-820a287f43c8          1     Female    Naive   \n",
       "1        6cac74bd-4ea7-4701-8701-42563cc65eb8          1     Female    Naive   \n",
       "2        9f29bd57-16a5-4b26-b9f5-37598809da9e          1     Female    Naive   \n",
       "3        d7eb4e0b-276e-47e3-a55c-0b033180a2fe          1     Female    Naive   \n",
       "4        54434f3a-eba9-4aec-af35-c9d317ffa1d5          1     Female    Naive   \n",
       "...                                       ...        ...        ...      ...   \n",
       "1027843  eaaf93ba-75b1-40cd-af08-a4d803511354         30       Male   Mating   \n",
       "1027844  bb9caf59-d960-452e-a9fd-9238ce5e44ca         30       Male   Mating   \n",
       "1027845  2f45d61d-3a80-470b-8cb8-251a2c8d2e59         30       Male   Mating   \n",
       "1027846  180ae0ff-9817-48b9-8d34-b374bda6e316         30       Male   Mating   \n",
       "1027847  83463d3a-29c5-40c3-b762-ffc3b7a11ad3         30       Male   Mating   \n",
       "\n",
       "         Bregma   Centroid_X   Centroid_Y  Cell_class Neuron_cluster_ID  Ace2  \\\n",
       "0          0.26 -3211.562145  2608.541476   Astrocyte               NaN   0.0   \n",
       "1          0.26 -3207.923151  2621.795437  Inhibitory               I-5   0.0   \n",
       "2          0.26 -3209.578004  2633.153494  Inhibitory               I-6   0.0   \n",
       "3          0.26 -3203.853515  2756.045983  Inhibitory               I-5   0.0   \n",
       "4          0.26 -3202.682705  2608.803635  Inhibitory               I-9   0.0   \n",
       "...         ...          ...          ...         ...               ...   ...   \n",
       "1027843    0.11  2732.438894 -2322.578167   Ambiguous               NaN   0.0   \n",
       "1027844    0.11  2732.665807 -2120.226450   Ambiguous               NaN   0.0   \n",
       "1027845    0.11  2826.247461 -2308.947366   Ambiguous               NaN   0.0   \n",
       "1027846    0.11  2900.963778 -2174.600160  Inhibitory               I-2   0.0   \n",
       "1027847    0.11  2817.020857 -1716.243777   Ambiguous               NaN   0.0   \n",
       "\n",
       "         ...      Penk      Scg2       Sln       Sst      Tac1      Tac2  \\\n",
       "0        ...  0.133016  0.000000  0.865263  0.002977  0.054826  0.008934   \n",
       "1        ...  0.000000  0.000000  0.277939  0.868702  0.580957  0.010079   \n",
       "2        ...  0.213939  0.000000  0.377907  0.049332  0.084898  0.008951   \n",
       "3        ...  0.050882  0.089038  0.000000  0.000000  0.001530  0.031364   \n",
       "4        ...  1.250661  0.159618  0.211159  0.000000  0.087730  0.000000   \n",
       "...      ...       ...       ...       ...       ...       ...       ...   \n",
       "1027843  ...  0.000000  0.000000  0.000000  0.000000  0.000000  0.040998   \n",
       "1027844  ...  0.000000  0.852081  0.000000  0.695548  0.000000  0.024392   \n",
       "1027845  ...  0.058011  0.000000  0.000000  0.000000  0.000000  0.061898   \n",
       "1027846  ...  0.000000  0.326172  0.000000  0.000000  0.000000  0.063518   \n",
       "1027847  ...  0.000000  0.000000  0.000000  0.026406  0.007543  0.069503   \n",
       "\n",
       "               Th       Trh      Ucn3       Vgf  \n",
       "0        0.000000  0.000000  0.000000  0.000000  \n",
       "1        0.000000  0.000000  0.000000  0.000000  \n",
       "2        0.000000  0.000000  0.000000  0.000000  \n",
       "3        0.000000  0.000000  0.000000  0.001138  \n",
       "4        0.000000  0.000000  0.000000  0.029419  \n",
       "...           ...       ...       ...       ...  \n",
       "1027843  0.000000  0.000000  0.024618  0.000000  \n",
       "1027844  0.475944  0.000000  0.000000  0.000000  \n",
       "1027845  0.000000  0.000000  0.000000  0.000000  \n",
       "1027846  0.000000  0.000000  0.000000  0.000000  \n",
       "1027847  0.000000  0.026432  0.000000  0.000000  \n",
       "\n",
       "[1027848 rows x 170 columns]"
      ]
     },
     "execution_count": 118,
     "metadata": {},
     "output_type": "execute_result"
    }
   ],
   "source": [
    "count\n",
    "# 看count的内容，可以看出第一列（Cell_ID）是细胞ID，后面所有列是gene名字"
   ]
  },
  {
   "cell_type": "code",
   "execution_count": 119,
   "id": "7cfaa7c9-6420-4e97-bb08-1d0bd10b75b8",
   "metadata": {},
   "outputs": [],
   "source": [
    "# 提取cellID\n",
    "cell_id_array = count['Cell_ID']"
   ]
  },
  {
   "cell_type": "code",
   "execution_count": 120,
   "id": "124a9173-324f-4333-92ec-7bc292a17ee5",
   "metadata": {},
   "outputs": [
    {
     "data": {
      "text/plain": [
       "0          6749ccb4-2ed1-4029-968f-820a287f43c8\n",
       "1          6cac74bd-4ea7-4701-8701-42563cc65eb8\n",
       "2          9f29bd57-16a5-4b26-b9f5-37598809da9e\n",
       "3          d7eb4e0b-276e-47e3-a55c-0b033180a2fe\n",
       "4          54434f3a-eba9-4aec-af35-c9d317ffa1d5\n",
       "                           ...                 \n",
       "1027843    eaaf93ba-75b1-40cd-af08-a4d803511354\n",
       "1027844    bb9caf59-d960-452e-a9fd-9238ce5e44ca\n",
       "1027845    2f45d61d-3a80-470b-8cb8-251a2c8d2e59\n",
       "1027846    180ae0ff-9817-48b9-8d34-b374bda6e316\n",
       "1027847    83463d3a-29c5-40c3-b762-ffc3b7a11ad3\n",
       "Name: Cell_ID, Length: 1027848, dtype: object"
      ]
     },
     "execution_count": 120,
     "metadata": {},
     "output_type": "execute_result"
    }
   ],
   "source": [
    "cell_id_array"
   ]
  },
  {
   "cell_type": "code",
   "execution_count": 121,
   "id": "e498521b",
   "metadata": {},
   "outputs": [],
   "source": [
    "# 提取Animal_ID\n",
    "animal_id_array = count['Animal_ID']"
   ]
  },
  {
   "cell_type": "code",
   "execution_count": 122,
   "id": "6137df6c",
   "metadata": {},
   "outputs": [
    {
     "data": {
      "text/plain": [
       "0           1\n",
       "1           1\n",
       "2           1\n",
       "3           1\n",
       "4           1\n",
       "           ..\n",
       "1027843    30\n",
       "1027844    30\n",
       "1027845    30\n",
       "1027846    30\n",
       "1027847    30\n",
       "Name: Animal_ID, Length: 1027848, dtype: int64"
      ]
     },
     "execution_count": 122,
     "metadata": {},
     "output_type": "execute_result"
    }
   ],
   "source": [
    "animal_id_array"
   ]
  },
  {
   "cell_type": "code",
   "execution_count": 123,
   "id": "3deaf102",
   "metadata": {},
   "outputs": [],
   "source": [
    "# 提取Animal_sex\n",
    "animal_sex_array = count['Animal_sex']"
   ]
  },
  {
   "cell_type": "code",
   "execution_count": 124,
   "id": "d350bf48",
   "metadata": {},
   "outputs": [
    {
     "data": {
      "text/plain": [
       "0          Female\n",
       "1          Female\n",
       "2          Female\n",
       "3          Female\n",
       "4          Female\n",
       "            ...  \n",
       "1027843      Male\n",
       "1027844      Male\n",
       "1027845      Male\n",
       "1027846      Male\n",
       "1027847      Male\n",
       "Name: Animal_sex, Length: 1027848, dtype: object"
      ]
     },
     "execution_count": 124,
     "metadata": {},
     "output_type": "execute_result"
    }
   ],
   "source": [
    "animal_sex_array"
   ]
  },
  {
   "cell_type": "code",
   "execution_count": 125,
   "id": "bd4cfb1b",
   "metadata": {},
   "outputs": [],
   "source": [
    "# 提取Behavior\n",
    "behavior_array = count['Behavior']"
   ]
  },
  {
   "cell_type": "code",
   "execution_count": 126,
   "id": "5f3cfefd",
   "metadata": {
    "scrolled": true
   },
   "outputs": [
    {
     "data": {
      "text/plain": [
       "0           Naive\n",
       "1           Naive\n",
       "2           Naive\n",
       "3           Naive\n",
       "4           Naive\n",
       "            ...  \n",
       "1027843    Mating\n",
       "1027844    Mating\n",
       "1027845    Mating\n",
       "1027846    Mating\n",
       "1027847    Mating\n",
       "Name: Behavior, Length: 1027848, dtype: object"
      ]
     },
     "execution_count": 126,
     "metadata": {},
     "output_type": "execute_result"
    }
   ],
   "source": [
    "behavior_array"
   ]
  },
  {
   "cell_type": "code",
   "execution_count": 127,
   "id": "b1e9d14d",
   "metadata": {},
   "outputs": [],
   "source": [
    "# 提取Bregma\n",
    "bregma = count['Bregma']"
   ]
  },
  {
   "cell_type": "code",
   "execution_count": 128,
   "id": "9fffdd9c",
   "metadata": {},
   "outputs": [
    {
     "data": {
      "text/plain": [
       "0          0.26\n",
       "1          0.26\n",
       "2          0.26\n",
       "3          0.26\n",
       "4          0.26\n",
       "           ... \n",
       "1027843    0.11\n",
       "1027844    0.11\n",
       "1027845    0.11\n",
       "1027846    0.11\n",
       "1027847    0.11\n",
       "Name: Bregma, Length: 1027848, dtype: float64"
      ]
     },
     "execution_count": 128,
     "metadata": {},
     "output_type": "execute_result"
    }
   ],
   "source": [
    "bregma"
   ]
  },
  {
   "cell_type": "code",
   "execution_count": 129,
   "id": "bfb2d82f",
   "metadata": {},
   "outputs": [],
   "source": [
    "# 提取Centroid_X \n",
    "x = count['Centroid_X']"
   ]
  },
  {
   "cell_type": "code",
   "execution_count": 130,
   "id": "45b41c4f",
   "metadata": {},
   "outputs": [
    {
     "data": {
      "text/plain": [
       "0         -3211.562145\n",
       "1         -3207.923151\n",
       "2         -3209.578004\n",
       "3         -3203.853515\n",
       "4         -3202.682705\n",
       "              ...     \n",
       "1027843    2732.438894\n",
       "1027844    2732.665807\n",
       "1027845    2826.247461\n",
       "1027846    2900.963778\n",
       "1027847    2817.020857\n",
       "Name: Centroid_X, Length: 1027848, dtype: float64"
      ]
     },
     "execution_count": 130,
     "metadata": {},
     "output_type": "execute_result"
    }
   ],
   "source": [
    "x"
   ]
  },
  {
   "cell_type": "code",
   "execution_count": 131,
   "id": "1d05c8e9",
   "metadata": {},
   "outputs": [],
   "source": [
    "# 提取Centroid_Y \n",
    "y = count['Centroid_Y']"
   ]
  },
  {
   "cell_type": "code",
   "execution_count": 132,
   "id": "fc90c65c",
   "metadata": {},
   "outputs": [
    {
     "data": {
      "text/plain": [
       "0          2608.541476\n",
       "1          2621.795437\n",
       "2          2633.153494\n",
       "3          2756.045983\n",
       "4          2608.803635\n",
       "              ...     \n",
       "1027843   -2322.578167\n",
       "1027844   -2120.226450\n",
       "1027845   -2308.947366\n",
       "1027846   -2174.600160\n",
       "1027847   -1716.243777\n",
       "Name: Centroid_Y, Length: 1027848, dtype: float64"
      ]
     },
     "execution_count": 132,
     "metadata": {},
     "output_type": "execute_result"
    }
   ],
   "source": [
    "y"
   ]
  },
  {
   "cell_type": "code",
   "execution_count": 133,
   "id": "1ca1b786",
   "metadata": {},
   "outputs": [],
   "source": [
    "# 提取Cell_class\n",
    "cellclass = count['Cell_class']"
   ]
  },
  {
   "cell_type": "code",
   "execution_count": 134,
   "id": "11de188e",
   "metadata": {
    "scrolled": true
   },
   "outputs": [
    {
     "data": {
      "text/plain": [
       "0           Astrocyte\n",
       "1          Inhibitory\n",
       "2          Inhibitory\n",
       "3          Inhibitory\n",
       "4          Inhibitory\n",
       "              ...    \n",
       "1027843     Ambiguous\n",
       "1027844     Ambiguous\n",
       "1027845     Ambiguous\n",
       "1027846    Inhibitory\n",
       "1027847     Ambiguous\n",
       "Name: Cell_class, Length: 1027848, dtype: object"
      ]
     },
     "execution_count": 134,
     "metadata": {},
     "output_type": "execute_result"
    }
   ],
   "source": [
    "cellclass"
   ]
  },
  {
   "cell_type": "code",
   "execution_count": 135,
   "id": "516f271c",
   "metadata": {},
   "outputs": [],
   "source": [
    "# 提取Neuron_cluster_ID\n",
    "neuronclusterID = count['Neuron_cluster_ID']"
   ]
  },
  {
   "cell_type": "code",
   "execution_count": 136,
   "id": "ab5caa55",
   "metadata": {},
   "outputs": [
    {
     "data": {
      "text/plain": [
       "0          NaN\n",
       "1          I-5\n",
       "2          I-6\n",
       "3          I-5\n",
       "4          I-9\n",
       "          ... \n",
       "1027843    NaN\n",
       "1027844    NaN\n",
       "1027845    NaN\n",
       "1027846    I-2\n",
       "1027847    NaN\n",
       "Name: Neuron_cluster_ID, Length: 1027848, dtype: object"
      ]
     },
     "execution_count": 136,
     "metadata": {},
     "output_type": "execute_result"
    }
   ],
   "source": [
    "neuronclusterID"
   ]
  },
  {
   "cell_type": "code",
   "execution_count": 137,
   "id": "844b299d",
   "metadata": {},
   "outputs": [],
   "source": [
    "gene_id_array = count.columns"
   ]
  },
  {
   "cell_type": "code",
   "execution_count": 138,
   "id": "4ba517f9-b22c-495b-ab6e-424cc4575ab3",
   "metadata": {},
   "outputs": [
    {
     "data": {
      "text/plain": [
       "Index(['Cell_ID', 'Animal_ID', 'Animal_sex', 'Behavior', 'Bregma',\n",
       "       'Centroid_X', 'Centroid_Y', 'Cell_class', 'Neuron_cluster_ID', 'Ace2',\n",
       "       ...\n",
       "       'Penk', 'Scg2', 'Sln', 'Sst', 'Tac1', 'Tac2', 'Th', 'Trh', 'Ucn3',\n",
       "       'Vgf'],\n",
       "      dtype='object', length=170)"
      ]
     },
     "execution_count": 138,
     "metadata": {},
     "output_type": "execute_result"
    }
   ],
   "source": [
    "gene_id_array"
   ]
  },
  {
   "cell_type": "code",
   "execution_count": 139,
   "id": "6c0ea561-cead-48a8-bada-f6b658c78c9e",
   "metadata": {},
   "outputs": [],
   "source": [
    "# 去掉第一个元素“Unnamed: 0”\n",
    "gene_id_array = gene_id_array[9:]"
   ]
  },
  {
   "cell_type": "code",
   "execution_count": 140,
   "id": "6a7d92f1-7a24-41b4-9a1b-e721c98ce344",
   "metadata": {},
   "outputs": [
    {
     "data": {
      "text/plain": [
       "Index(['Ace2', 'Adora2a', 'Aldh1l1', 'Amigo2', 'Ano3', 'Aqp4', 'Ar',\n",
       "       'Arhgap36', 'Avpr1a', 'Avpr2',\n",
       "       ...\n",
       "       'Penk', 'Scg2', 'Sln', 'Sst', 'Tac1', 'Tac2', 'Th', 'Trh', 'Ucn3',\n",
       "       'Vgf'],\n",
       "      dtype='object', length=161)"
      ]
     },
     "execution_count": 140,
     "metadata": {},
     "output_type": "execute_result"
    }
   ],
   "source": [
    "gene_id_array"
   ]
  },
  {
   "cell_type": "code",
   "execution_count": null,
   "id": "f365eb2d-0505-4222-810c-5d56330047fc",
   "metadata": {},
   "outputs": [],
   "source": [
    "# 提取count_matrix\n",
    "count_X = count.values[:,9:].astype('float32')"
   ]
  },
  {
   "cell_type": "code",
   "execution_count": null,
   "id": "bede2240-feb0-40ac-a1e5-0f46b89a9787",
   "metadata": {},
   "outputs": [],
   "source": [
    "# 构建adata\n",
    "adata = ad.AnnData(count_X)\n",
    "adata.var_names = gene_id_array\n",
    "adata.obs_names = cell_id_array"
   ]
  },
  {
   "cell_type": "code",
   "execution_count": null,
   "id": "2dd2420a",
   "metadata": {},
   "outputs": [],
   "source": [
    "index = count.set_index('Cell_ID')"
   ]
  },
  {
   "cell_type": "code",
   "execution_count": null,
   "id": "83e422e1",
   "metadata": {},
   "outputs": [],
   "source": [
    "adata.obs['Animal_ID'] = index.loc[adata.obs_names].loc[:,'Animal_ID']\n",
    "adata.obs['Animal_sex'] = index.loc[adata.obs_names].loc[:,'Animal_sex']\n",
    "adata.obs['Behavior'] = index.loc[adata.obs_names].loc[:,'Behavior']\n",
    "adata.obs['Bregma'] = index.loc[adata.obs_names].loc[:,'Bregma']\n",
    "adata.obs['Cell_class'] = index.loc[adata.obs_names].loc[:,'Cell_class']\n",
    "adata.obs['Neuron_cluster_ID'] = index.loc[adata.obs_names].loc[:,'Neuron_cluster_ID']"
   ]
  },
  {
   "cell_type": "code",
   "execution_count": null,
   "id": "96249c30",
   "metadata": {},
   "outputs": [],
   "source": [
    "adata.obs['Animal_sex']"
   ]
  },
  {
   "cell_type": "code",
   "execution_count": null,
   "id": "01075626",
   "metadata": {},
   "outputs": [],
   "source": [
    "adata.obsm['spatial'] = index.loc[adata.obs_names].loc[:,['Centroid_X','Centroid_Y']]"
   ]
  },
  {
   "cell_type": "code",
   "execution_count": null,
   "id": "8035c067",
   "metadata": {},
   "outputs": [],
   "source": [
    "adata.obsm['spatial']"
   ]
  },
  {
   "cell_type": "code",
   "execution_count": null,
   "id": "e7e8534d",
   "metadata": {},
   "outputs": [],
   "source": [
    "adata"
   ]
  },
  {
   "cell_type": "code",
   "execution_count": null,
   "id": "e24e5fe5",
   "metadata": {},
   "outputs": [],
   "source": [
    "save_path = 'C:/Users/Administrator/Desktop/code/doi_10.5061_dryad.8t8s248__v1/moffitt2018molecular_MERFISH_merfish_all_cells.h5ad'"
   ]
  },
  {
   "cell_type": "code",
   "execution_count": null,
   "id": "14d58ac7",
   "metadata": {
    "scrolled": true
   },
   "outputs": [],
   "source": [
    "adata.write_h5ad(save_path)"
   ]
  },
  {
   "cell_type": "code",
   "execution_count": null,
   "id": "8224d4df",
   "metadata": {},
   "outputs": [],
   "source": []
  }
 ],
 "metadata": {
  "kernelspec": {
   "display_name": "Python 3 (ipykernel)",
   "language": "python",
   "name": "python3"
  },
  "language_info": {
   "codemirror_mode": {
    "name": "ipython",
    "version": 3
   },
   "file_extension": ".py",
   "mimetype": "text/x-python",
   "name": "python",
   "nbconvert_exporter": "python",
   "pygments_lexer": "ipython3",
   "version": "3.9.7"
  }
 },
 "nbformat": 4,
 "nbformat_minor": 5
}
