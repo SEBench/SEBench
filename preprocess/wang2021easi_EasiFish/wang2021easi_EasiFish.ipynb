{
 "cells": [
  {
   "cell_type": "code",
   "execution_count": 2,
   "id": "d9aa68ec-84c3-443a-8bc2-1c8a33a55989",
   "metadata": {
    "pycharm": {
     "is_executing": true,
     "name": "#%%\n"
    }
   },
   "outputs": [],
   "source": [
    "import scanpy as sc\n",
    "import pandas as pd\n",
    "import anndata as ad"
   ]
  },
  {
   "cell_type": "code",
   "execution_count": 3,
   "id": "41529ee3-8fa2-4956-9a7c-88e367e693d0",
   "metadata": {
    "pycharm": {
     "name": "#%%\n"
    }
   },
   "outputs": [],
   "source": [
    "data_path = 'C:/Users/admin/Desktop/code/wang2021easi_EasiFish'"
   ]
  },
  {
   "cell_type": "code",
   "execution_count": 4,
   "id": "bffb0ba6-7565-48af-b85a-7c6dcf5f72d2",
   "metadata": {
    "pycharm": {
     "name": "#%%\n"
    }
   },
   "outputs": [],
   "source": [
    "count_file = 'EASI_FISH_gene_count.csv'\n",
    "meta_file = 'EASI_FISH_metadata.csv'"
   ]
  },
  {
   "cell_type": "code",
   "execution_count": 5,
   "id": "61473d95-f91f-4400-9123-639e69f63ac5",
   "metadata": {
    "pycharm": {
     "name": "#%%\n"
    }
   },
   "outputs": [],
   "source": [
    "# 用pandas读取csv\n",
    "count = pd.read_csv(f'{data_path}/{count_file}')"
   ]
  },
  {
   "cell_type": "code",
   "execution_count": 6,
   "id": "add03619-6ce6-4898-b85d-ef6357a92487",
   "metadata": {
    "pycharm": {
     "name": "#%%\n"
    },
    "tags": []
   },
   "outputs": [
    {
     "data": {
      "text/html": [
       "<div>\n",
       "<style scoped>\n",
       "    .dataframe tbody tr th:only-of-type {\n",
       "        vertical-align: middle;\n",
       "    }\n",
       "\n",
       "    .dataframe tbody tr th {\n",
       "        vertical-align: top;\n",
       "    }\n",
       "\n",
       "    .dataframe thead th {\n",
       "        text-align: right;\n",
       "    }\n",
       "</style>\n",
       "<table border=\"1\" class=\"dataframe\">\n",
       "  <thead>\n",
       "    <tr style=\"text-align: right;\">\n",
       "      <th></th>\n",
       "      <th>Unnamed: 0</th>\n",
       "      <th>Meis2</th>\n",
       "      <th>Th</th>\n",
       "      <th>Gpr101</th>\n",
       "      <th>Gpr83</th>\n",
       "      <th>Slc17a6</th>\n",
       "      <th>Bdnf</th>\n",
       "      <th>Calb2</th>\n",
       "      <th>Gal</th>\n",
       "      <th>Otp</th>\n",
       "      <th>...</th>\n",
       "      <th>Trh</th>\n",
       "      <th>Nts</th>\n",
       "      <th>Hcrt</th>\n",
       "      <th>Pmch</th>\n",
       "      <th>Cartpt</th>\n",
       "      <th>Slc32a1</th>\n",
       "      <th>Sst</th>\n",
       "      <th>Nrgn</th>\n",
       "      <th>Meis2-R9</th>\n",
       "      <th>Th-R9</th>\n",
       "    </tr>\n",
       "  </thead>\n",
       "  <tbody>\n",
       "    <tr>\n",
       "      <th>0</th>\n",
       "      <td>LHA1_1</td>\n",
       "      <td>8.0</td>\n",
       "      <td>5.0</td>\n",
       "      <td>49.0</td>\n",
       "      <td>1.0</td>\n",
       "      <td>9.0</td>\n",
       "      <td>3.0</td>\n",
       "      <td>23.000000</td>\n",
       "      <td>77.0</td>\n",
       "      <td>19.0</td>\n",
       "      <td>...</td>\n",
       "      <td>9.0</td>\n",
       "      <td>39.0</td>\n",
       "      <td>26.0</td>\n",
       "      <td>43.0</td>\n",
       "      <td>6.0</td>\n",
       "      <td>183.0</td>\n",
       "      <td>17.0</td>\n",
       "      <td>39.0</td>\n",
       "      <td>15.0</td>\n",
       "      <td>13.0</td>\n",
       "    </tr>\n",
       "    <tr>\n",
       "      <th>1</th>\n",
       "      <td>LHA1_2</td>\n",
       "      <td>13.0</td>\n",
       "      <td>6.0</td>\n",
       "      <td>2.0</td>\n",
       "      <td>6.0</td>\n",
       "      <td>98.0</td>\n",
       "      <td>20.0</td>\n",
       "      <td>167.000000</td>\n",
       "      <td>5.0</td>\n",
       "      <td>8.0</td>\n",
       "      <td>...</td>\n",
       "      <td>24.0</td>\n",
       "      <td>2.0</td>\n",
       "      <td>3.0</td>\n",
       "      <td>18.0</td>\n",
       "      <td>0.0</td>\n",
       "      <td>7.0</td>\n",
       "      <td>7.0</td>\n",
       "      <td>110.0</td>\n",
       "      <td>12.0</td>\n",
       "      <td>9.0</td>\n",
       "    </tr>\n",
       "    <tr>\n",
       "      <th>2</th>\n",
       "      <td>LHA1_4</td>\n",
       "      <td>148.0</td>\n",
       "      <td>4.0</td>\n",
       "      <td>3.0</td>\n",
       "      <td>44.0</td>\n",
       "      <td>228.0</td>\n",
       "      <td>1.0</td>\n",
       "      <td>29.000000</td>\n",
       "      <td>6.0</td>\n",
       "      <td>4.0</td>\n",
       "      <td>...</td>\n",
       "      <td>4.0</td>\n",
       "      <td>7.0</td>\n",
       "      <td>8.0</td>\n",
       "      <td>19.0</td>\n",
       "      <td>3.0</td>\n",
       "      <td>40.0</td>\n",
       "      <td>20.0</td>\n",
       "      <td>3.0</td>\n",
       "      <td>151.0</td>\n",
       "      <td>17.0</td>\n",
       "    </tr>\n",
       "    <tr>\n",
       "      <th>3</th>\n",
       "      <td>LHA1_5</td>\n",
       "      <td>94.0</td>\n",
       "      <td>10.0</td>\n",
       "      <td>2.0</td>\n",
       "      <td>13.0</td>\n",
       "      <td>20.0</td>\n",
       "      <td>9.0</td>\n",
       "      <td>152.000000</td>\n",
       "      <td>19.0</td>\n",
       "      <td>10.0</td>\n",
       "      <td>...</td>\n",
       "      <td>4.0</td>\n",
       "      <td>1.0</td>\n",
       "      <td>1.0</td>\n",
       "      <td>10.0</td>\n",
       "      <td>11.0</td>\n",
       "      <td>177.0</td>\n",
       "      <td>68.0</td>\n",
       "      <td>82.0</td>\n",
       "      <td>115.0</td>\n",
       "      <td>26.0</td>\n",
       "    </tr>\n",
       "    <tr>\n",
       "      <th>4</th>\n",
       "      <td>LHA1_6</td>\n",
       "      <td>17.0</td>\n",
       "      <td>13.0</td>\n",
       "      <td>1.0</td>\n",
       "      <td>12.0</td>\n",
       "      <td>201.0</td>\n",
       "      <td>0.0</td>\n",
       "      <td>27.000000</td>\n",
       "      <td>7.0</td>\n",
       "      <td>8.0</td>\n",
       "      <td>...</td>\n",
       "      <td>8.0</td>\n",
       "      <td>0.0</td>\n",
       "      <td>5.0</td>\n",
       "      <td>15.0</td>\n",
       "      <td>3.0</td>\n",
       "      <td>13.0</td>\n",
       "      <td>22.0</td>\n",
       "      <td>7.0</td>\n",
       "      <td>24.0</td>\n",
       "      <td>16.0</td>\n",
       "    </tr>\n",
       "    <tr>\n",
       "      <th>...</th>\n",
       "      <td>...</td>\n",
       "      <td>...</td>\n",
       "      <td>...</td>\n",
       "      <td>...</td>\n",
       "      <td>...</td>\n",
       "      <td>...</td>\n",
       "      <td>...</td>\n",
       "      <td>...</td>\n",
       "      <td>...</td>\n",
       "      <td>...</td>\n",
       "      <td>...</td>\n",
       "      <td>...</td>\n",
       "      <td>...</td>\n",
       "      <td>...</td>\n",
       "      <td>...</td>\n",
       "      <td>...</td>\n",
       "      <td>...</td>\n",
       "      <td>...</td>\n",
       "      <td>...</td>\n",
       "      <td>...</td>\n",
       "      <td>...</td>\n",
       "    </tr>\n",
       "    <tr>\n",
       "      <th>36418</th>\n",
       "      <td>LHA3_29908</td>\n",
       "      <td>7.0</td>\n",
       "      <td>4.0</td>\n",
       "      <td>4.0</td>\n",
       "      <td>4.0</td>\n",
       "      <td>26.0</td>\n",
       "      <td>1.0</td>\n",
       "      <td>486.720155</td>\n",
       "      <td>3.0</td>\n",
       "      <td>44.0</td>\n",
       "      <td>...</td>\n",
       "      <td>48.0</td>\n",
       "      <td>5.0</td>\n",
       "      <td>4.0</td>\n",
       "      <td>5.0</td>\n",
       "      <td>0.0</td>\n",
       "      <td>2.0</td>\n",
       "      <td>10.0</td>\n",
       "      <td>4.0</td>\n",
       "      <td>4.0</td>\n",
       "      <td>6.0</td>\n",
       "    </tr>\n",
       "    <tr>\n",
       "      <th>36419</th>\n",
       "      <td>LHA3_29917</td>\n",
       "      <td>1.0</td>\n",
       "      <td>0.0</td>\n",
       "      <td>0.0</td>\n",
       "      <td>1.0</td>\n",
       "      <td>16.0</td>\n",
       "      <td>4.0</td>\n",
       "      <td>48.000000</td>\n",
       "      <td>2.0</td>\n",
       "      <td>13.0</td>\n",
       "      <td>...</td>\n",
       "      <td>43.0</td>\n",
       "      <td>0.0</td>\n",
       "      <td>2.0</td>\n",
       "      <td>3.0</td>\n",
       "      <td>3.0</td>\n",
       "      <td>4.0</td>\n",
       "      <td>3.0</td>\n",
       "      <td>1.0</td>\n",
       "      <td>4.0</td>\n",
       "      <td>1.0</td>\n",
       "    </tr>\n",
       "    <tr>\n",
       "      <th>36420</th>\n",
       "      <td>LHA3_29932</td>\n",
       "      <td>5.0</td>\n",
       "      <td>4.0</td>\n",
       "      <td>0.0</td>\n",
       "      <td>4.0</td>\n",
       "      <td>2.0</td>\n",
       "      <td>0.0</td>\n",
       "      <td>1.000000</td>\n",
       "      <td>0.0</td>\n",
       "      <td>3.0</td>\n",
       "      <td>...</td>\n",
       "      <td>7.0</td>\n",
       "      <td>0.0</td>\n",
       "      <td>2.0</td>\n",
       "      <td>4.0</td>\n",
       "      <td>0.0</td>\n",
       "      <td>32.0</td>\n",
       "      <td>4.0</td>\n",
       "      <td>1.0</td>\n",
       "      <td>3.0</td>\n",
       "      <td>1.0</td>\n",
       "    </tr>\n",
       "    <tr>\n",
       "      <th>36421</th>\n",
       "      <td>LHA3_29957</td>\n",
       "      <td>6.0</td>\n",
       "      <td>9.0</td>\n",
       "      <td>3.0</td>\n",
       "      <td>1.0</td>\n",
       "      <td>24.0</td>\n",
       "      <td>9.0</td>\n",
       "      <td>26.000000</td>\n",
       "      <td>4.0</td>\n",
       "      <td>13.0</td>\n",
       "      <td>...</td>\n",
       "      <td>95.0</td>\n",
       "      <td>0.0</td>\n",
       "      <td>1.0</td>\n",
       "      <td>3.0</td>\n",
       "      <td>4.0</td>\n",
       "      <td>14.0</td>\n",
       "      <td>11.0</td>\n",
       "      <td>6.0</td>\n",
       "      <td>2.0</td>\n",
       "      <td>4.0</td>\n",
       "    </tr>\n",
       "    <tr>\n",
       "      <th>36422</th>\n",
       "      <td>LHA3_30018</td>\n",
       "      <td>6.0</td>\n",
       "      <td>0.0</td>\n",
       "      <td>50.0</td>\n",
       "      <td>1.0</td>\n",
       "      <td>17.0</td>\n",
       "      <td>4.0</td>\n",
       "      <td>2.000000</td>\n",
       "      <td>0.0</td>\n",
       "      <td>62.0</td>\n",
       "      <td>...</td>\n",
       "      <td>2.0</td>\n",
       "      <td>5.0</td>\n",
       "      <td>0.0</td>\n",
       "      <td>7.0</td>\n",
       "      <td>39.0</td>\n",
       "      <td>3.0</td>\n",
       "      <td>4.0</td>\n",
       "      <td>0.0</td>\n",
       "      <td>1.0</td>\n",
       "      <td>4.0</td>\n",
       "    </tr>\n",
       "  </tbody>\n",
       "</table>\n",
       "<p>36423 rows × 27 columns</p>\n",
       "</div>"
      ],
      "text/plain": [
       "       Unnamed: 0  Meis2    Th  Gpr101  Gpr83  Slc17a6  Bdnf       Calb2  \\\n",
       "0          LHA1_1    8.0   5.0    49.0    1.0      9.0   3.0   23.000000   \n",
       "1          LHA1_2   13.0   6.0     2.0    6.0     98.0  20.0  167.000000   \n",
       "2          LHA1_4  148.0   4.0     3.0   44.0    228.0   1.0   29.000000   \n",
       "3          LHA1_5   94.0  10.0     2.0   13.0     20.0   9.0  152.000000   \n",
       "4          LHA1_6   17.0  13.0     1.0   12.0    201.0   0.0   27.000000   \n",
       "...           ...    ...   ...     ...    ...      ...   ...         ...   \n",
       "36418  LHA3_29908    7.0   4.0     4.0    4.0     26.0   1.0  486.720155   \n",
       "36419  LHA3_29917    1.0   0.0     0.0    1.0     16.0   4.0   48.000000   \n",
       "36420  LHA3_29932    5.0   4.0     0.0    4.0      2.0   0.0    1.000000   \n",
       "36421  LHA3_29957    6.0   9.0     3.0    1.0     24.0   9.0   26.000000   \n",
       "36422  LHA3_30018    6.0   0.0    50.0    1.0     17.0   4.0    2.000000   \n",
       "\n",
       "        Gal   Otp  ...   Trh   Nts  Hcrt  Pmch  Cartpt  Slc32a1   Sst   Nrgn  \\\n",
       "0      77.0  19.0  ...   9.0  39.0  26.0  43.0     6.0    183.0  17.0   39.0   \n",
       "1       5.0   8.0  ...  24.0   2.0   3.0  18.0     0.0      7.0   7.0  110.0   \n",
       "2       6.0   4.0  ...   4.0   7.0   8.0  19.0     3.0     40.0  20.0    3.0   \n",
       "3      19.0  10.0  ...   4.0   1.0   1.0  10.0    11.0    177.0  68.0   82.0   \n",
       "4       7.0   8.0  ...   8.0   0.0   5.0  15.0     3.0     13.0  22.0    7.0   \n",
       "...     ...   ...  ...   ...   ...   ...   ...     ...      ...   ...    ...   \n",
       "36418   3.0  44.0  ...  48.0   5.0   4.0   5.0     0.0      2.0  10.0    4.0   \n",
       "36419   2.0  13.0  ...  43.0   0.0   2.0   3.0     3.0      4.0   3.0    1.0   \n",
       "36420   0.0   3.0  ...   7.0   0.0   2.0   4.0     0.0     32.0   4.0    1.0   \n",
       "36421   4.0  13.0  ...  95.0   0.0   1.0   3.0     4.0     14.0  11.0    6.0   \n",
       "36422   0.0  62.0  ...   2.0   5.0   0.0   7.0    39.0      3.0   4.0    0.0   \n",
       "\n",
       "       Meis2-R9  Th-R9  \n",
       "0          15.0   13.0  \n",
       "1          12.0    9.0  \n",
       "2         151.0   17.0  \n",
       "3         115.0   26.0  \n",
       "4          24.0   16.0  \n",
       "...         ...    ...  \n",
       "36418       4.0    6.0  \n",
       "36419       4.0    1.0  \n",
       "36420       3.0    1.0  \n",
       "36421       2.0    4.0  \n",
       "36422       1.0    4.0  \n",
       "\n",
       "[36423 rows x 27 columns]"
      ]
     },
     "execution_count": 6,
     "metadata": {},
     "output_type": "execute_result"
    }
   ],
   "source": [
    "count\n",
    "# 看count的内容，可以看出第一列（Unnamed: 0）是细胞ID，后面所有列是gene名字"
   ]
  },
  {
   "cell_type": "code",
   "execution_count": 7,
   "id": "7cfaa7c9-6420-4e97-bb08-1d0bd10b75b8",
   "metadata": {
    "pycharm": {
     "name": "#%%\n"
    }
   },
   "outputs": [],
   "source": [
    "# 提取cellID\n",
    "cell_id_array = count['Unnamed: 0']"
   ]
  },
  {
   "cell_type": "code",
   "execution_count": 8,
   "id": "124a9173-324f-4333-92ec-7bc292a17ee5",
   "metadata": {
    "pycharm": {
     "name": "#%%\n"
    }
   },
   "outputs": [
    {
     "data": {
      "text/plain": [
       "0            LHA1_1\n",
       "1            LHA1_2\n",
       "2            LHA1_4\n",
       "3            LHA1_5\n",
       "4            LHA1_6\n",
       "            ...    \n",
       "36418    LHA3_29908\n",
       "36419    LHA3_29917\n",
       "36420    LHA3_29932\n",
       "36421    LHA3_29957\n",
       "36422    LHA3_30018\n",
       "Name: Unnamed: 0, Length: 36423, dtype: object"
      ]
     },
     "execution_count": 8,
     "metadata": {},
     "output_type": "execute_result"
    }
   ],
   "source": [
    "cell_id_array"
   ]
  },
  {
   "cell_type": "code",
   "execution_count": 9,
   "id": "b311bec4-e62e-4de6-bceb-b469b5e2faae",
   "metadata": {
    "pycharm": {
     "name": "#%%\n"
    }
   },
   "outputs": [],
   "source": [
    "# 提取geneID\n",
    "gene_id_array = count.columns"
   ]
  },
  {
   "cell_type": "code",
   "execution_count": 10,
   "id": "4ba517f9-b22c-495b-ab6e-424cc4575ab3",
   "metadata": {
    "pycharm": {
     "name": "#%%\n"
    }
   },
   "outputs": [
    {
     "data": {
      "text/plain": [
       "Index(['Unnamed: 0', 'Meis2', 'Th', 'Gpr101', 'Gpr83', 'Slc17a6', 'Bdnf',\n",
       "       'Calb2', 'Gal', 'Otp', 'Gad1', 'Col25a1', 'Synpr', 'Tac2', 'Calb1',\n",
       "       'Tac1', 'Map1b', 'Trh', 'Nts', 'Hcrt', 'Pmch', 'Cartpt', 'Slc32a1',\n",
       "       'Sst', 'Nrgn', 'Meis2-R9', 'Th-R9'],\n",
       "      dtype='object')"
      ]
     },
     "execution_count": 10,
     "metadata": {},
     "output_type": "execute_result"
    }
   ],
   "source": [
    "gene_id_array"
   ]
  },
  {
   "cell_type": "code",
   "execution_count": 11,
   "id": "6c0ea561-cead-48a8-bada-f6b658c78c9e",
   "metadata": {
    "pycharm": {
     "name": "#%%\n"
    }
   },
   "outputs": [],
   "source": [
    "# 去掉第一个元素“Unnamed: 0”\n",
    "gene_id_array = gene_id_array[1:]"
   ]
  },
  {
   "cell_type": "code",
   "execution_count": 12,
   "id": "6a7d92f1-7a24-41b4-9a1b-e721c98ce344",
   "metadata": {
    "pycharm": {
     "name": "#%%\n"
    }
   },
   "outputs": [
    {
     "data": {
      "text/plain": [
       "Index(['Meis2', 'Th', 'Gpr101', 'Gpr83', 'Slc17a6', 'Bdnf', 'Calb2', 'Gal',\n",
       "       'Otp', 'Gad1', 'Col25a1', 'Synpr', 'Tac2', 'Calb1', 'Tac1', 'Map1b',\n",
       "       'Trh', 'Nts', 'Hcrt', 'Pmch', 'Cartpt', 'Slc32a1', 'Sst', 'Nrgn',\n",
       "       'Meis2-R9', 'Th-R9'],\n",
       "      dtype='object')"
      ]
     },
     "execution_count": 12,
     "metadata": {},
     "output_type": "execute_result"
    }
   ],
   "source": [
    "gene_id_array"
   ]
  },
  {
   "cell_type": "code",
   "execution_count": 13,
   "id": "f365eb2d-0505-4222-810c-5d56330047fc",
   "metadata": {
    "pycharm": {
     "name": "#%%\n"
    }
   },
   "outputs": [],
   "source": [
    "# 提取count_matrix\n",
    "count_X = count.values[:,1:].astype('float')"
   ]
  },
  {
   "cell_type": "code",
   "execution_count": 14,
   "id": "bede2240-feb0-40ac-a1e5-0f46b89a9787",
   "metadata": {
    "pycharm": {
     "name": "#%%\n"
    }
   },
   "outputs": [
    {
     "name": "stderr",
     "output_type": "stream",
     "text": [
      "C:\\Users\\admin\\AppData\\Local\\Temp\\ipykernel_7472\\3501277586.py:2: FutureWarning: X.dtype being converted to np.float32 from float64. In the next version of anndata (0.9) conversion will not be automatic. Pass dtype explicitly to avoid this warning. Pass `AnnData(X, dtype=X.dtype, ...)` to get the future behavour.\n",
      "  adata = ad.AnnData(count_X)\n"
     ]
    }
   ],
   "source": [
    "# 构建adata\n",
    "adata = ad.AnnData(count_X)\n",
    "adata.var_names = gene_id_array\n",
    "adata.obs_names = cell_id_array"
   ]
  },
  {
   "cell_type": "code",
   "execution_count": 15,
   "id": "a85b3f3f-9449-46d0-9272-f67a36795802",
   "metadata": {
    "pycharm": {
     "name": "#%%\n"
    }
   },
   "outputs": [],
   "source": [
    "# 以上代码先提取了geneID,cellID和count matrix；再用他们创建了一个adata对象。\n",
    "# 下面代码目的是读取meta file，观察由哪些信息，再赋给adata"
   ]
  },
  {
   "cell_type": "code",
   "execution_count": 16,
   "id": "62dcecb6-e2aa-4a58-9475-b615c3861256",
   "metadata": {
    "pycharm": {
     "name": "#%%\n"
    }
   },
   "outputs": [],
   "source": [
    "meta = pd.read_csv(f'{data_path}/{meta_file}')"
   ]
  },
  {
   "cell_type": "code",
   "execution_count": 17,
   "id": "7c57951c-7837-46d9-9bc6-dc73dde59fea",
   "metadata": {
    "pycharm": {
     "name": "#%%\n"
    }
   },
   "outputs": [
    {
     "data": {
      "text/html": [
       "<div>\n",
       "<style scoped>\n",
       "    .dataframe tbody tr th:only-of-type {\n",
       "        vertical-align: middle;\n",
       "    }\n",
       "\n",
       "    .dataframe tbody tr th {\n",
       "        vertical-align: top;\n",
       "    }\n",
       "\n",
       "    .dataframe thead th {\n",
       "        text-align: right;\n",
       "    }\n",
       "</style>\n",
       "<table border=\"1\" class=\"dataframe\">\n",
       "  <thead>\n",
       "    <tr style=\"text-align: right;\">\n",
       "      <th></th>\n",
       "      <th>Unnamed: 0</th>\n",
       "      <th>z</th>\n",
       "      <th>y</th>\n",
       "      <th>x</th>\n",
       "      <th>area</th>\n",
       "      <th>eccentricity</th>\n",
       "      <th>Solidity</th>\n",
       "      <th>Neuron</th>\n",
       "      <th>region</th>\n",
       "      <th>density(kde)</th>\n",
       "      <th>cell_type</th>\n",
       "    </tr>\n",
       "  </thead>\n",
       "  <tbody>\n",
       "    <tr>\n",
       "      <th>0</th>\n",
       "      <td>LHA1_1</td>\n",
       "      <td>135.130236</td>\n",
       "      <td>190.602062</td>\n",
       "      <td>266.543345</td>\n",
       "      <td>1996.864968</td>\n",
       "      <td>0.810345</td>\n",
       "      <td>0.789966</td>\n",
       "      <td>1</td>\n",
       "      <td>LHA</td>\n",
       "      <td>-20.838445</td>\n",
       "      <td>Inh-14</td>\n",
       "    </tr>\n",
       "    <tr>\n",
       "      <th>1</th>\n",
       "      <td>LHA1_2</td>\n",
       "      <td>316.599960</td>\n",
       "      <td>607.126559</td>\n",
       "      <td>394.430873</td>\n",
       "      <td>1838.495064</td>\n",
       "      <td>0.761807</td>\n",
       "      <td>0.901905</td>\n",
       "      <td>1</td>\n",
       "      <td>LHA</td>\n",
       "      <td>-21.272360</td>\n",
       "      <td>Ex-21</td>\n",
       "    </tr>\n",
       "    <tr>\n",
       "      <th>2</th>\n",
       "      <td>LHA1_4</td>\n",
       "      <td>347.088372</td>\n",
       "      <td>715.996855</td>\n",
       "      <td>242.855345</td>\n",
       "      <td>2666.160000</td>\n",
       "      <td>0.493653</td>\n",
       "      <td>0.734556</td>\n",
       "      <td>1</td>\n",
       "      <td>LHA</td>\n",
       "      <td>-21.842887</td>\n",
       "      <td>Ex-14</td>\n",
       "    </tr>\n",
       "    <tr>\n",
       "      <th>3</th>\n",
       "      <td>LHA1_5</td>\n",
       "      <td>251.254075</td>\n",
       "      <td>509.719876</td>\n",
       "      <td>732.489548</td>\n",
       "      <td>1861.068552</td>\n",
       "      <td>0.721073</td>\n",
       "      <td>0.906929</td>\n",
       "      <td>1</td>\n",
       "      <td>LHA</td>\n",
       "      <td>-21.057905</td>\n",
       "      <td>Inh-12</td>\n",
       "    </tr>\n",
       "    <tr>\n",
       "      <th>4</th>\n",
       "      <td>LHA1_6</td>\n",
       "      <td>289.769686</td>\n",
       "      <td>415.791167</td>\n",
       "      <td>570.987479</td>\n",
       "      <td>2638.343064</td>\n",
       "      <td>0.509223</td>\n",
       "      <td>0.650959</td>\n",
       "      <td>1</td>\n",
       "      <td>LHA</td>\n",
       "      <td>-21.337946</td>\n",
       "      <td>Ex-18</td>\n",
       "    </tr>\n",
       "    <tr>\n",
       "      <th>...</th>\n",
       "      <td>...</td>\n",
       "      <td>...</td>\n",
       "      <td>...</td>\n",
       "      <td>...</td>\n",
       "      <td>...</td>\n",
       "      <td>...</td>\n",
       "      <td>...</td>\n",
       "      <td>...</td>\n",
       "      <td>...</td>\n",
       "      <td>...</td>\n",
       "      <td>...</td>\n",
       "    </tr>\n",
       "    <tr>\n",
       "      <th>36418</th>\n",
       "      <td>LHA3_29908</td>\n",
       "      <td>182.377180</td>\n",
       "      <td>764.498088</td>\n",
       "      <td>337.681042</td>\n",
       "      <td>837.707472</td>\n",
       "      <td>0.335485</td>\n",
       "      <td>0.498335</td>\n",
       "      <td>1</td>\n",
       "      <td>LHA</td>\n",
       "      <td>-21.804141</td>\n",
       "      <td>Ex-25</td>\n",
       "    </tr>\n",
       "    <tr>\n",
       "      <th>36419</th>\n",
       "      <td>LHA3_29917</td>\n",
       "      <td>147.182830</td>\n",
       "      <td>681.771790</td>\n",
       "      <td>76.596247</td>\n",
       "      <td>608.595456</td>\n",
       "      <td>0.347409</td>\n",
       "      <td>0.700706</td>\n",
       "      <td>1</td>\n",
       "      <td>LHA</td>\n",
       "      <td>-21.340927</td>\n",
       "      <td>Ex-25</td>\n",
       "    </tr>\n",
       "    <tr>\n",
       "      <th>36420</th>\n",
       "      <td>LHA3_29932</td>\n",
       "      <td>164.128898</td>\n",
       "      <td>490.104207</td>\n",
       "      <td>607.835618</td>\n",
       "      <td>650.631912</td>\n",
       "      <td>0.546413</td>\n",
       "      <td>0.554159</td>\n",
       "      <td>1</td>\n",
       "      <td>LHA</td>\n",
       "      <td>-21.362798</td>\n",
       "      <td>Inh-23</td>\n",
       "    </tr>\n",
       "    <tr>\n",
       "      <th>36421</th>\n",
       "      <td>LHA3_29957</td>\n",
       "      <td>241.571465</td>\n",
       "      <td>760.089606</td>\n",
       "      <td>224.087652</td>\n",
       "      <td>1070.196624</td>\n",
       "      <td>0.524847</td>\n",
       "      <td>0.497398</td>\n",
       "      <td>1</td>\n",
       "      <td>LHA</td>\n",
       "      <td>-22.183890</td>\n",
       "      <td>Ex-25</td>\n",
       "    </tr>\n",
       "    <tr>\n",
       "      <th>36422</th>\n",
       "      <td>LHA3_30018</td>\n",
       "      <td>229.022223</td>\n",
       "      <td>237.592208</td>\n",
       "      <td>13.645236</td>\n",
       "      <td>657.208440</td>\n",
       "      <td>0.635508</td>\n",
       "      <td>0.674726</td>\n",
       "      <td>1</td>\n",
       "      <td>LHA</td>\n",
       "      <td>-21.948191</td>\n",
       "      <td>Ex-13</td>\n",
       "    </tr>\n",
       "  </tbody>\n",
       "</table>\n",
       "<p>36423 rows × 11 columns</p>\n",
       "</div>"
      ],
      "text/plain": [
       "       Unnamed: 0           z           y           x         area  \\\n",
       "0          LHA1_1  135.130236  190.602062  266.543345  1996.864968   \n",
       "1          LHA1_2  316.599960  607.126559  394.430873  1838.495064   \n",
       "2          LHA1_4  347.088372  715.996855  242.855345  2666.160000   \n",
       "3          LHA1_5  251.254075  509.719876  732.489548  1861.068552   \n",
       "4          LHA1_6  289.769686  415.791167  570.987479  2638.343064   \n",
       "...           ...         ...         ...         ...          ...   \n",
       "36418  LHA3_29908  182.377180  764.498088  337.681042   837.707472   \n",
       "36419  LHA3_29917  147.182830  681.771790   76.596247   608.595456   \n",
       "36420  LHA3_29932  164.128898  490.104207  607.835618   650.631912   \n",
       "36421  LHA3_29957  241.571465  760.089606  224.087652  1070.196624   \n",
       "36422  LHA3_30018  229.022223  237.592208   13.645236   657.208440   \n",
       "\n",
       "       eccentricity  Solidity  Neuron region  density(kde) cell_type  \n",
       "0          0.810345  0.789966       1    LHA    -20.838445    Inh-14  \n",
       "1          0.761807  0.901905       1    LHA    -21.272360     Ex-21  \n",
       "2          0.493653  0.734556       1    LHA    -21.842887     Ex-14  \n",
       "3          0.721073  0.906929       1    LHA    -21.057905    Inh-12  \n",
       "4          0.509223  0.650959       1    LHA    -21.337946     Ex-18  \n",
       "...             ...       ...     ...    ...           ...       ...  \n",
       "36418      0.335485  0.498335       1    LHA    -21.804141     Ex-25  \n",
       "36419      0.347409  0.700706       1    LHA    -21.340927     Ex-25  \n",
       "36420      0.546413  0.554159       1    LHA    -21.362798    Inh-23  \n",
       "36421      0.524847  0.497398       1    LHA    -22.183890     Ex-25  \n",
       "36422      0.635508  0.674726       1    LHA    -21.948191     Ex-13  \n",
       "\n",
       "[36423 rows x 11 columns]"
      ]
     },
     "execution_count": 17,
     "metadata": {},
     "output_type": "execute_result"
    }
   ],
   "source": [
    "meta\n",
    "# 观察由哪些信息\n",
    "# 第一列是细胞id，(x,y,z)是空间坐标。后面是一些细胞的属性"
   ]
  },
  {
   "cell_type": "code",
   "execution_count": 18,
   "id": "b7b96476-ddf4-4dd8-957f-3e66fa66c681",
   "metadata": {
    "pycharm": {
     "name": "#%%\n"
    }
   },
   "outputs": [
    {
     "data": {
      "text/html": [
       "<div>\n",
       "<style scoped>\n",
       "    .dataframe tbody tr th:only-of-type {\n",
       "        vertical-align: middle;\n",
       "    }\n",
       "\n",
       "    .dataframe tbody tr th {\n",
       "        vertical-align: top;\n",
       "    }\n",
       "\n",
       "    .dataframe thead th {\n",
       "        text-align: right;\n",
       "    }\n",
       "</style>\n",
       "<table border=\"1\" class=\"dataframe\">\n",
       "  <thead>\n",
       "    <tr style=\"text-align: right;\">\n",
       "      <th></th>\n",
       "      <th>Unnamed: 0</th>\n",
       "      <th>z</th>\n",
       "      <th>y</th>\n",
       "      <th>x</th>\n",
       "      <th>area</th>\n",
       "      <th>eccentricity</th>\n",
       "      <th>Solidity</th>\n",
       "      <th>Neuron</th>\n",
       "      <th>region</th>\n",
       "      <th>density(kde)</th>\n",
       "      <th>cell_type</th>\n",
       "    </tr>\n",
       "  </thead>\n",
       "  <tbody>\n",
       "    <tr>\n",
       "      <th>0</th>\n",
       "      <td>LHA1_1</td>\n",
       "      <td>135.130236</td>\n",
       "      <td>190.602062</td>\n",
       "      <td>266.543345</td>\n",
       "      <td>1996.864968</td>\n",
       "      <td>0.810345</td>\n",
       "      <td>0.789966</td>\n",
       "      <td>1</td>\n",
       "      <td>LHA</td>\n",
       "      <td>-20.838445</td>\n",
       "      <td>Inh-14</td>\n",
       "    </tr>\n",
       "    <tr>\n",
       "      <th>1</th>\n",
       "      <td>LHA1_2</td>\n",
       "      <td>316.599960</td>\n",
       "      <td>607.126559</td>\n",
       "      <td>394.430873</td>\n",
       "      <td>1838.495064</td>\n",
       "      <td>0.761807</td>\n",
       "      <td>0.901905</td>\n",
       "      <td>1</td>\n",
       "      <td>LHA</td>\n",
       "      <td>-21.272360</td>\n",
       "      <td>Ex-21</td>\n",
       "    </tr>\n",
       "    <tr>\n",
       "      <th>2</th>\n",
       "      <td>LHA1_4</td>\n",
       "      <td>347.088372</td>\n",
       "      <td>715.996855</td>\n",
       "      <td>242.855345</td>\n",
       "      <td>2666.160000</td>\n",
       "      <td>0.493653</td>\n",
       "      <td>0.734556</td>\n",
       "      <td>1</td>\n",
       "      <td>LHA</td>\n",
       "      <td>-21.842887</td>\n",
       "      <td>Ex-14</td>\n",
       "    </tr>\n",
       "    <tr>\n",
       "      <th>3</th>\n",
       "      <td>LHA1_5</td>\n",
       "      <td>251.254075</td>\n",
       "      <td>509.719876</td>\n",
       "      <td>732.489548</td>\n",
       "      <td>1861.068552</td>\n",
       "      <td>0.721073</td>\n",
       "      <td>0.906929</td>\n",
       "      <td>1</td>\n",
       "      <td>LHA</td>\n",
       "      <td>-21.057905</td>\n",
       "      <td>Inh-12</td>\n",
       "    </tr>\n",
       "    <tr>\n",
       "      <th>4</th>\n",
       "      <td>LHA1_6</td>\n",
       "      <td>289.769686</td>\n",
       "      <td>415.791167</td>\n",
       "      <td>570.987479</td>\n",
       "      <td>2638.343064</td>\n",
       "      <td>0.509223</td>\n",
       "      <td>0.650959</td>\n",
       "      <td>1</td>\n",
       "      <td>LHA</td>\n",
       "      <td>-21.337946</td>\n",
       "      <td>Ex-18</td>\n",
       "    </tr>\n",
       "    <tr>\n",
       "      <th>...</th>\n",
       "      <td>...</td>\n",
       "      <td>...</td>\n",
       "      <td>...</td>\n",
       "      <td>...</td>\n",
       "      <td>...</td>\n",
       "      <td>...</td>\n",
       "      <td>...</td>\n",
       "      <td>...</td>\n",
       "      <td>...</td>\n",
       "      <td>...</td>\n",
       "      <td>...</td>\n",
       "    </tr>\n",
       "    <tr>\n",
       "      <th>36418</th>\n",
       "      <td>LHA3_29908</td>\n",
       "      <td>182.377180</td>\n",
       "      <td>764.498088</td>\n",
       "      <td>337.681042</td>\n",
       "      <td>837.707472</td>\n",
       "      <td>0.335485</td>\n",
       "      <td>0.498335</td>\n",
       "      <td>1</td>\n",
       "      <td>LHA</td>\n",
       "      <td>-21.804141</td>\n",
       "      <td>Ex-25</td>\n",
       "    </tr>\n",
       "    <tr>\n",
       "      <th>36419</th>\n",
       "      <td>LHA3_29917</td>\n",
       "      <td>147.182830</td>\n",
       "      <td>681.771790</td>\n",
       "      <td>76.596247</td>\n",
       "      <td>608.595456</td>\n",
       "      <td>0.347409</td>\n",
       "      <td>0.700706</td>\n",
       "      <td>1</td>\n",
       "      <td>LHA</td>\n",
       "      <td>-21.340927</td>\n",
       "      <td>Ex-25</td>\n",
       "    </tr>\n",
       "    <tr>\n",
       "      <th>36420</th>\n",
       "      <td>LHA3_29932</td>\n",
       "      <td>164.128898</td>\n",
       "      <td>490.104207</td>\n",
       "      <td>607.835618</td>\n",
       "      <td>650.631912</td>\n",
       "      <td>0.546413</td>\n",
       "      <td>0.554159</td>\n",
       "      <td>1</td>\n",
       "      <td>LHA</td>\n",
       "      <td>-21.362798</td>\n",
       "      <td>Inh-23</td>\n",
       "    </tr>\n",
       "    <tr>\n",
       "      <th>36421</th>\n",
       "      <td>LHA3_29957</td>\n",
       "      <td>241.571465</td>\n",
       "      <td>760.089606</td>\n",
       "      <td>224.087652</td>\n",
       "      <td>1070.196624</td>\n",
       "      <td>0.524847</td>\n",
       "      <td>0.497398</td>\n",
       "      <td>1</td>\n",
       "      <td>LHA</td>\n",
       "      <td>-22.183890</td>\n",
       "      <td>Ex-25</td>\n",
       "    </tr>\n",
       "    <tr>\n",
       "      <th>36422</th>\n",
       "      <td>LHA3_30018</td>\n",
       "      <td>229.022223</td>\n",
       "      <td>237.592208</td>\n",
       "      <td>13.645236</td>\n",
       "      <td>657.208440</td>\n",
       "      <td>0.635508</td>\n",
       "      <td>0.674726</td>\n",
       "      <td>1</td>\n",
       "      <td>LHA</td>\n",
       "      <td>-21.948191</td>\n",
       "      <td>Ex-13</td>\n",
       "    </tr>\n",
       "  </tbody>\n",
       "</table>\n",
       "<p>36423 rows × 11 columns</p>\n",
       "</div>"
      ],
      "text/plain": [
       "       Unnamed: 0           z           y           x         area  \\\n",
       "0          LHA1_1  135.130236  190.602062  266.543345  1996.864968   \n",
       "1          LHA1_2  316.599960  607.126559  394.430873  1838.495064   \n",
       "2          LHA1_4  347.088372  715.996855  242.855345  2666.160000   \n",
       "3          LHA1_5  251.254075  509.719876  732.489548  1861.068552   \n",
       "4          LHA1_6  289.769686  415.791167  570.987479  2638.343064   \n",
       "...           ...         ...         ...         ...          ...   \n",
       "36418  LHA3_29908  182.377180  764.498088  337.681042   837.707472   \n",
       "36419  LHA3_29917  147.182830  681.771790   76.596247   608.595456   \n",
       "36420  LHA3_29932  164.128898  490.104207  607.835618   650.631912   \n",
       "36421  LHA3_29957  241.571465  760.089606  224.087652  1070.196624   \n",
       "36422  LHA3_30018  229.022223  237.592208   13.645236   657.208440   \n",
       "\n",
       "       eccentricity  Solidity  Neuron region  density(kde) cell_type  \n",
       "0          0.810345  0.789966       1    LHA    -20.838445    Inh-14  \n",
       "1          0.761807  0.901905       1    LHA    -21.272360     Ex-21  \n",
       "2          0.493653  0.734556       1    LHA    -21.842887     Ex-14  \n",
       "3          0.721073  0.906929       1    LHA    -21.057905    Inh-12  \n",
       "4          0.509223  0.650959       1    LHA    -21.337946     Ex-18  \n",
       "...             ...       ...     ...    ...           ...       ...  \n",
       "36418      0.335485  0.498335       1    LHA    -21.804141     Ex-25  \n",
       "36419      0.347409  0.700706       1    LHA    -21.340927     Ex-25  \n",
       "36420      0.546413  0.554159       1    LHA    -21.362798    Inh-23  \n",
       "36421      0.524847  0.497398       1    LHA    -22.183890     Ex-25  \n",
       "36422      0.635508  0.674726       1    LHA    -21.948191     Ex-13  \n",
       "\n",
       "[36423 rows x 11 columns]"
      ]
     },
     "execution_count": 18,
     "metadata": {},
     "output_type": "execute_result"
    }
   ],
   "source": [
    "meta"
   ]
  },
  {
   "cell_type": "code",
   "execution_count": 19,
   "id": "f54305cd-4ded-425c-8702-ab5ba9d64a23",
   "metadata": {
    "pycharm": {
     "name": "#%%\n"
    },
    "tags": []
   },
   "outputs": [],
   "source": [
    "# 需要把细胞名作为index，与adata的细胞名align起来\n",
    "meta = meta.set_index('Unnamed: 0')\n"
   ]
  },
  {
   "cell_type": "code",
   "execution_count": 20,
   "id": "70bb51ac-89a5-42d3-8b85-c6afcc039fd8",
   "metadata": {
    "pycharm": {
     "name": "#%%\n"
    }
   },
   "outputs": [],
   "source": [
    "adata.obs['area'] = meta.loc[adata.obs_names].loc[:,'area']\n",
    "adata.obs['eccentricity'] = meta.loc[adata.obs_names].loc[:,'eccentricity']\n",
    "adata.obs['Solidity'] = meta.loc[adata.obs_names].loc[:,'Solidity']\n",
    "adata.obs['Neuron'] = meta.loc[adata.obs_names].loc[:,'Neuron']\n",
    "adata.obs['region'] = meta.loc[adata.obs_names].loc[:,'region']\n",
    "adata.obs['density(kde)'] = meta.loc[adata.obs_names].loc[:,'density(kde)']\n",
    "adata.obs['cell_type'] = meta.loc[adata.obs_names].loc[:,'cell_type']"
   ]
  },
  {
   "cell_type": "code",
   "execution_count": 21,
   "id": "3342705e-bd84-41ed-a134-bd7ce3ff1ba6",
   "metadata": {
    "pycharm": {
     "name": "#%%\n"
    }
   },
   "outputs": [],
   "source": [
    "adata.obsm['spatial'] = meta.loc[adata.obs_names].loc[:,['x','y','z']]"
   ]
  },
  {
   "cell_type": "code",
   "execution_count": 22,
   "id": "1e6c31dd-5601-4db6-a5d7-525081da8085",
   "metadata": {
    "pycharm": {
     "name": "#%%\n"
    },
    "scrolled": true
   },
   "outputs": [
    {
     "data": {
      "text/plain": [
       "AnnData object with n_obs × n_vars = 36423 × 26\n",
       "    obs: 'area', 'eccentricity', 'Solidity', 'Neuron', 'region', 'density(kde)', 'cell_type'\n",
       "    obsm: 'spatial'"
      ]
     },
     "execution_count": 22,
     "metadata": {},
     "output_type": "execute_result"
    }
   ],
   "source": [
    "adata"
   ]
  },
  {
   "cell_type": "code",
   "execution_count": 23,
   "id": "317e0038-e1c6-41bf-8f1e-01e7efbedaf2",
   "metadata": {
    "pycharm": {
     "name": "#%%\n"
    }
   },
   "outputs": [],
   "source": [
    "adata.write_h5ad('C:/Users/admin/Desktop/code/wang2021easi_EasiFish/wang2021easi_EasiFish.h5ad')"
   ]
  }
 ],
 "metadata": {
  "kernelspec": {
   "display_name": "Python 3 (ipykernel)",
   "language": "python",
   "name": "python3"
  },
  "language_info": {
   "codemirror_mode": {
    "name": "ipython",
    "version": 3
   },
   "file_extension": ".py",
   "mimetype": "text/x-python",
   "name": "python",
   "nbconvert_exporter": "python",
   "pygments_lexer": "ipython3",
   "version": "3.9.12"
  }
 },
 "nbformat": 4,
 "nbformat_minor": 5
}
