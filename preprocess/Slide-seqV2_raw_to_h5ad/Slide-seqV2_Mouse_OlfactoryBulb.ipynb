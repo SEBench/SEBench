import scanpy as sc
import pandas as pd
import anndata as ad
import numpy as np
#data_path为文件所在的文件夹的目录
data_path = 'H:/SEBENCH/h5ad/Slide-seqV2_Mouse_Olfactory_bulb'
count_file = 'Puck_200127_15.digital_expression.txt'
meta_file = 'Puck_200127_15_bead_locations.csv'
# 用pandas读取csv
count0 = pd.read_table(f'{data_path}/{count_file}')
meta = pd.read_csv(f'{data_path}/{meta_file}')
#行列转置
count=count0.values[:,1:].T
#提取cellID
cell_id_array = count0.columns[1:]
#提取geneID
gene_id_array = count0['Row']
# 提取count_matrix
count_X = count.astype('float')
# 构建adata
adata = ad.AnnData(count_X)
adata.var_names = gene_id_array
adata.obs_names = cell_id_array
meta = pd.read_csv(f'{data_path}/{meta_file}')
# 需要把细胞名作为index，与adata的细胞名align起来
meta = meta.set_index('barcodes')
adata.obsm['spatial'] = meta.loc[adata.obs_names].loc[:,['xcoord','ycoord']]
adata.write_h5ad(f'{data_path}/Puck_180819_18.h5ad')
