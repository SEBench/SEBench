{
 "cells": [
  {
   "cell_type": "code",
   "execution_count": 154,
   "id": "0b0b141e",
   "metadata": {},
   "outputs": [],
   "source": [
    "import scanpy as sc\n",
    "import pandas as pd\n",
    "import anndata as ad\n",
    "import numpy as np\n",
    "from numpy import count_nonzero\n",
    "import scipy"
   ]
  },
  {
   "cell_type": "code",
   "execution_count": 155,
   "id": "b5825d39",
   "metadata": {},
   "outputs": [],
   "source": [
    "data_path = 'C:/Users/admin/Desktop/code/codeluppi2018spatial_osmFISH_mouse_somatosensory_cortex'"
   ]
  },
  {
   "cell_type": "code",
   "execution_count": 156,
   "id": "725e464f",
   "metadata": {},
   "outputs": [],
   "source": [
    "data_file = 'osmFISH_SScortex_mouse_all_cells.loom'"
   ]
  },
  {
   "cell_type": "code",
   "execution_count": 157,
   "id": "de9909b5",
   "metadata": {},
   "outputs": [],
   "source": [
    "adata = sc.read_loom(f'{data_path}/{data_file}')"
   ]
  },
  {
   "cell_type": "code",
   "execution_count": 158,
   "id": "2bb3e441",
   "metadata": {},
   "outputs": [
    {
     "data": {
      "text/plain": [
       "AnnData object with n_obs × n_vars = 6471 × 33\n",
       "    obs: 'ClusterID', 'ClusterName', 'Region', 'Total_molecules', 'Valid', 'X', 'Y', '_tSNE_1', '_tSNE_2', 'size_pix', 'size_um2'\n",
       "    var: 'Fluorophore', 'Hybridization'"
      ]
     },
     "execution_count": 158,
     "metadata": {},
     "output_type": "execute_result"
    }
   ],
   "source": [
    "adata"
   ]
  },
  {
   "cell_type": "code",
   "execution_count": 159,
   "id": "aa411970",
   "metadata": {},
   "outputs": [],
   "source": [
    "adata.X = scipy.sparse.csc_matrix(adata.X)"
   ]
  },
  {
   "cell_type": "code",
   "execution_count": 160,
   "id": "df77c68c",
   "metadata": {},
   "outputs": [],
   "source": [
    "adata.X = scipy.sparse.csc_matrix.toarray(adata.X)"
   ]
  },
  {
   "cell_type": "code",
   "execution_count": 161,
   "id": "912101e7",
   "metadata": {},
   "outputs": [
    {
     "data": {
      "text/plain": [
       "array([[35., 41.,  0., ...,  0.,  4.,  3.],\n",
       "       [16., 26.,  1., ...,  0., 21.,  3.],\n",
       "       [95., 49.,  5., ...,  0.,  4.,  1.],\n",
       "       ...,\n",
       "       [ 2.,  0.,  0., ...,  0.,  2.,  7.],\n",
       "       [ 1.,  1.,  0., ...,  2.,  1.,  0.],\n",
       "       [ 3.,  0.,  0., ...,  0.,  5.,  1.]], dtype=float32)"
      ]
     },
     "execution_count": 161,
     "metadata": {},
     "output_type": "execute_result"
    }
   ],
   "source": [
    "adata.X"
   ]
  },
  {
   "cell_type": "code",
   "execution_count": 162,
   "id": "550c39d5",
   "metadata": {},
   "outputs": [],
   "source": [
    "adata.obsm['spatial'] = adata.obs[['X','Y']]"
   ]
  },
  {
   "cell_type": "code",
   "execution_count": 164,
   "id": "8882a1f4",
   "metadata": {},
   "outputs": [
    {
     "data": {
      "text/plain": [
       "AnnData object with n_obs × n_vars = 6471 × 33\n",
       "    obs: 'ClusterID', 'ClusterName', 'Region', 'Total_molecules', 'Valid', 'X', 'Y', '_tSNE_1', '_tSNE_2', 'size_pix', 'size_um2'\n",
       "    var: 'Fluorophore', 'Hybridization'\n",
       "    obsm: 'spatial'"
      ]
     },
     "execution_count": 164,
     "metadata": {},
     "output_type": "execute_result"
    }
   ],
   "source": [
    "adata"
   ]
  },
  {
   "cell_type": "code",
   "execution_count": 165,
   "id": "554af351",
   "metadata": {},
   "outputs": [],
   "source": [
    "save_path = 'C:/Users/admin/Desktop/code/codeluppi2018spatial_osmFISH_mouse_somatosensory_cortex/codeluppi2018spatial_osmFISH_mouse_somatosensory_cortex.h5ad'"
   ]
  },
  {
   "cell_type": "code",
   "execution_count": 169,
   "id": "f28fb59b",
   "metadata": {},
   "outputs": [],
   "source": [
    "adata.write_h5ad(save_path)"
   ]
  },
  {
   "cell_type": "code",
   "execution_count": 170,
   "id": "83bee010",
   "metadata": {},
   "outputs": [],
   "source": [
    "#adata_load = sc.read_h5ad(save_path)"
   ]
  },
  {
   "cell_type": "code",
   "execution_count": 171,
   "id": "91846274",
   "metadata": {},
   "outputs": [
    {
     "data": {
      "text/plain": [
       "AnnData object with n_obs × n_vars = 6471 × 33\n",
       "    obs: 'ClusterID', 'ClusterName', 'Region', 'Total_molecules', 'Valid', 'X', 'Y', '_tSNE_1', '_tSNE_2', 'size_pix', 'size_um2'\n",
       "    var: 'Fluorophore', 'Hybridization'\n",
       "    obsm: 'spatial'"
      ]
     },
     "execution_count": 171,
     "metadata": {},
     "output_type": "execute_result"
    }
   ],
   "source": [
    "#adata_load"
   ]
  },
  {
   "cell_type": "code",
   "execution_count": 172,
   "id": "1f8aa14c",
   "metadata": {},
   "outputs": [
    {
     "data": {
      "text/plain": [
       "array([[35., 41.,  0., ...,  0.,  4.,  3.],\n",
       "       [16., 26.,  1., ...,  0., 21.,  3.],\n",
       "       [95., 49.,  5., ...,  0.,  4.,  1.],\n",
       "       ...,\n",
       "       [ 2.,  0.,  0., ...,  0.,  2.,  7.],\n",
       "       [ 1.,  1.,  0., ...,  2.,  1.,  0.],\n",
       "       [ 3.,  0.,  0., ...,  0.,  5.,  1.]], dtype=float32)"
      ]
     },
     "execution_count": 172,
     "metadata": {},
     "output_type": "execute_result"
    }
   ],
   "source": [
    "#A= adata_load.X\n",
    "#A"
   ]
  },
  {
   "cell_type": "code",
   "execution_count": 173,
   "id": "c0e871aa",
   "metadata": {},
   "outputs": [
    {
     "name": "stdout",
     "output_type": "stream",
     "text": [
      "0.31372135822761693\n"
     ]
    }
   ],
   "source": [
    "#sparsity = 1.0 - count_nonzero(A)/A.size\n",
    "print(sparsity)"
   ]
  }
 ],
 "metadata": {
  "kernelspec": {
   "display_name": "Python 3 (ipykernel)",
   "language": "python",
   "name": "python3"
  },
  "language_info": {
   "codemirror_mode": {
    "name": "ipython",
    "version": 3
   },
   "file_extension": ".py",
   "mimetype": "text/x-python",
   "name": "python",
   "nbconvert_exporter": "python",
   "pygments_lexer": "ipython3",
   "version": "3.9.12"
  }
 },
 "nbformat": 4,
 "nbformat_minor": 5
}
