{
 "cells": [
  {
   "cell_type": "code",
   "execution_count": 17,
   "id": "911a1593",
   "metadata": {},
   "outputs": [],
   "source": [
    "import scanpy as sc\n",
    "import pandas as pd\n",
    "import anndata as ad\n",
    "import numpy as np\n",
    "from numpy import count_nonzero\n",
    "import scipy"
   ]
  },
  {
   "cell_type": "code",
   "execution_count": 18,
   "id": "73115773",
   "metadata": {},
   "outputs": [],
   "source": [
    "data_path = 'C:/Users/admin/Desktop/code/lohoff2020highly_seqFISH_mouse_Gastrulation'"
   ]
  },
  {
   "cell_type": "code",
   "execution_count": 19,
   "id": "c9082802",
   "metadata": {},
   "outputs": [],
   "source": [
    "target = 'seqfish.h5ad'"
   ]
  },
  {
   "cell_type": "code",
   "execution_count": 20,
   "id": "9a82bb23",
   "metadata": {},
   "outputs": [],
   "source": [
    "# 用pandas读取csv\n",
    "adata = sc.read_h5ad(f'{data_path}/{target}')"
   ]
  },
  {
   "cell_type": "code",
   "execution_count": 21,
   "id": "bbc4d4eb",
   "metadata": {},
   "outputs": [
    {
     "data": {
      "text/plain": [
       "AnnData object with n_obs × n_vars = 19416 × 351\n",
       "    obs: 'Area', 'celltype_mapped_refined'\n",
       "    uns: 'celltype_mapped_refined_colors'\n",
       "    obsm: 'X_umap', 'spatial'"
      ]
     },
     "execution_count": 21,
     "metadata": {},
     "output_type": "execute_result"
    }
   ],
   "source": [
    "adata"
   ]
  },
  {
   "cell_type": "code",
   "execution_count": 22,
   "id": "7cc2efd9",
   "metadata": {},
   "outputs": [
    {
     "data": {
      "text/plain": [
       "<19416x351 sparse matrix of type '<class 'numpy.float32'>'\n",
       "\twith 1890790 stored elements in Compressed Sparse Column format>"
      ]
     },
     "execution_count": 22,
     "metadata": {},
     "output_type": "execute_result"
    }
   ],
   "source": [
    "adata.X"
   ]
  },
  {
   "cell_type": "code",
   "execution_count": 23,
   "id": "2b5a337b",
   "metadata": {},
   "outputs": [],
   "source": [
    "adata.X = scipy.sparse.csc_matrix(adata.X)"
   ]
  },
  {
   "cell_type": "code",
   "execution_count": 24,
   "id": "ebb9d64e",
   "metadata": {},
   "outputs": [],
   "source": [
    "adata.X = scipy.sparse.csc_matrix.toarray(adata.X)"
   ]
  },
  {
   "cell_type": "code",
   "execution_count": 25,
   "id": "ef33857a",
   "metadata": {},
   "outputs": [
    {
     "data": {
      "text/plain": [
       "array([[0., 3., 1., ..., 0., 2., 0.],\n",
       "       [0., 0., 0., ..., 0., 1., 0.],\n",
       "       [0., 2., 0., ..., 0., 0., 1.],\n",
       "       ...,\n",
       "       [2., 2., 0., ..., 1., 3., 1.],\n",
       "       [0., 0., 1., ..., 0., 2., 3.],\n",
       "       [0., 0., 0., ..., 0., 1., 0.]], dtype=float32)"
      ]
     },
     "execution_count": 25,
     "metadata": {},
     "output_type": "execute_result"
    }
   ],
   "source": [
    "adata.X"
   ]
  },
  {
   "cell_type": "code",
   "execution_count": 26,
   "id": "1af716b7",
   "metadata": {},
   "outputs": [],
   "source": [
    "save_path = 'C:/Users/admin/Desktop/code/lohoff2020highly_seqFISH_mouse_Gastrulation/lohoff2020highly_seqFISH_mouse_Gastrulation.h5ad'"
   ]
  },
  {
   "cell_type": "code",
   "execution_count": 27,
   "id": "5c674677",
   "metadata": {},
   "outputs": [],
   "source": [
    "adata.write_h5ad(save_path)"
   ]
  },
  {
   "cell_type": "code",
   "execution_count": 28,
   "id": "70de3b43",
   "metadata": {},
   "outputs": [],
   "source": [
    "#adata_load = sc.read_h5ad(save_path)"
   ]
  },
  {
   "cell_type": "code",
   "execution_count": 29,
   "id": "e17becf4",
   "metadata": {},
   "outputs": [
    {
     "data": {
      "text/plain": [
       "AnnData object with n_obs × n_vars = 19416 × 351\n",
       "    obs: 'Area', 'celltype_mapped_refined'\n",
       "    uns: 'celltype_mapped_refined_colors'\n",
       "    obsm: 'X_umap', 'spatial'"
      ]
     },
     "execution_count": 29,
     "metadata": {},
     "output_type": "execute_result"
    }
   ],
   "source": [
    "#adata_load"
   ]
  },
  {
   "cell_type": "code",
   "execution_count": 30,
   "id": "2691df9c",
   "metadata": {},
   "outputs": [],
   "source": [
    "#A= adata_load.X"
   ]
  },
  {
   "cell_type": "code",
   "execution_count": 31,
   "id": "076dafde",
   "metadata": {},
   "outputs": [
    {
     "data": {
      "text/plain": [
       "array([[0., 3., 1., ..., 0., 2., 0.],\n",
       "       [0., 0., 0., ..., 0., 1., 0.],\n",
       "       [0., 2., 0., ..., 0., 0., 1.],\n",
       "       ...,\n",
       "       [2., 2., 0., ..., 1., 3., 1.],\n",
       "       [0., 0., 1., ..., 0., 2., 3.],\n",
       "       [0., 0., 0., ..., 0., 1., 0.]], dtype=float32)"
      ]
     },
     "execution_count": 31,
     "metadata": {},
     "output_type": "execute_result"
    }
   ],
   "source": [
    "#A"
   ]
  },
  {
   "cell_type": "code",
   "execution_count": 32,
   "id": "f5e9ffa6",
   "metadata": {},
   "outputs": [
    {
     "name": "stdout",
     "output_type": "stream",
     "text": [
      "0.7225553102149723\n"
     ]
    }
   ],
   "source": [
    "#sparsity = 1.0 - count_nonzero(A)/A.size\n",
    "#print(sparsity)"
   ]
  }
 ],
 "metadata": {
  "kernelspec": {
   "display_name": "Python 3 (ipykernel)",
   "language": "python",
   "name": "python3"
  },
  "language_info": {
   "codemirror_mode": {
    "name": "ipython",
    "version": 3
   },
   "file_extension": ".py",
   "mimetype": "text/x-python",
   "name": "python",
   "nbconvert_exporter": "python",
   "pygments_lexer": "ipython3",
   "version": "3.9.12"
  }
 },
 "nbformat": 4,
 "nbformat_minor": 5
}
